{
  "nbformat": 4,
  "nbformat_minor": 0,
  "metadata": {
    "colab": {
      "name": "HW3_V.ipynb",
      "provenance": [],
      "collapsed_sections": []
    },
    "kernelspec": {
      "name": "python3",
      "display_name": "Python 3"
    },
    "language_info": {
      "name": "python"
    }
  },
  "cells": [
    {
      "cell_type": "code",
      "metadata": {
        "id": "MojLo0KQ421i"
      },
      "source": [
        "import numpy as np\n",
        "import pandas as pd\n",
        "import seaborn as sns\n",
        "import matplotlib.pyplot as plt\n",
        "import random \n",
        "from sklearn.metrics import plot_confusion_matrix\n",
        "from sklearn.metrics import confusion_matrix"
      ],
      "execution_count": 1,
      "outputs": []
    },
    {
      "cell_type": "code",
      "metadata": {
        "id": "6o5Wkrdt5A-Q"
      },
      "source": [
        "data_i = pd.ExcelFile('temp2.xlsx')"
      ],
      "execution_count": 98,
      "outputs": []
    },
    {
      "cell_type": "code",
      "metadata": {
        "id": "XBUX7P_m5DOS"
      },
      "source": [
        "data_img = pd.read_excel(data_i) "
      ],
      "execution_count": 113,
      "outputs": []
    },
    {
      "cell_type": "code",
      "metadata": {
        "id": "OocTnpTd5G5q"
      },
      "source": [
        "data0 = data_img[0:400]\n",
        "data2 = data_img[400:500]\n",
        "data1 = data_img[500:900]\n",
        "data3 = data_img[900:1000]\n",
        "data4 = data_img[3500:3600]\n",
        "data5 = data_img[4500:4600]\n",
        "data_training = data0.append(data1)\n",
        "data_testing = data2.append(data3)\n",
        "data_challenge = data4.append(data5)\n",
        "data_training = data_training.sample(frac=1)\n",
        "data_testing = data_testing.sample(frac=1)\n",
        "data_challenge = data_challenge.sample(frac=1)\n"
      ],
      "execution_count": 114,
      "outputs": []
    },
    {
      "cell_type": "code",
      "metadata": {
        "id": "1kZWVBJC9YsN"
      },
      "source": [
        "w= np.random.uniform(0,0.3,785)\n",
        "w_copy = w"
      ],
      "execution_count": 115,
      "outputs": []
    },
    {
      "cell_type": "code",
      "metadata": {
        "id": "PxMqepAL4FLb"
      },
      "source": [
        "y_training_bt = [0 for f in range(800)]\n",
        "s_training_bt = [0 for f in range(800)]\n",
        "y_actual = np.array(data_training.iloc[:,0])\n",
        "y_actual_test = np.array(data_testing.iloc[:,0])\n",
        "\n",
        "for i in range(800):\n",
        "    s_training_bt[i] = np.dot(data_training.iloc[i,1:],w_copy)\n",
        "    #y_training = s_training\n",
        "    if s_training_bt[i] > 0 :\n",
        "        y_training_bt[i] = 1\n",
        "    else:\n",
        "        y_training_bt[i] = 0"
      ],
      "execution_count": 116,
      "outputs": []
    },
    {
      "cell_type": "code",
      "metadata": {
        "id": "1Mcq1kvQrr3O",
        "colab": {
          "base_uri": "https://localhost:8080/"
        },
        "outputId": "07589a1d-6366-4670-882d-207367cc9841"
      },
      "source": [
        "tn1, fp1, fn1, tp1= confusion_matrix(y_actual,y_training_bt).ravel()\n",
        "print(\"TN:\",tn1,\"FP\",fp1,\"FN:\",fn1,\"TP:\",tp1)\n",
        "p1 = (tp1/(tp1+fp1))\n",
        "r1 = (tp1/(tp1+fn1))\n",
        "f11 = 2*((p1*r1)/(p1+r1))\n",
        "print(\"p=\",p1,\"r=\",r1,\"f1=\",f11)"
      ],
      "execution_count": 117,
      "outputs": [
        {
          "output_type": "stream",
          "name": "stdout",
          "text": [
            "TN: 0 FP 400 FN: 0 TP: 400\n",
            "p= 0.5 r= 1.0 f1= 0.6666666666666666\n"
          ]
        }
      ]
    },
    {
      "cell_type": "code",
      "metadata": {
        "id": "9-ZtKXmg5L5u",
        "colab": {
          "base_uri": "https://localhost:8080/"
        },
        "outputId": "190ebaec-76a8-4583-ada8-68a9bf4f05b9"
      },
      "source": [
        "w= np.random.uniform(0,0.8,785)\n",
        "\n",
        "s_training = [0 for f in range(800)]\n",
        "y_training = [0 for f in range(800)]\n",
        "s_testing = [0 for f in range(200)]\n",
        "y_testing = [0 for f in range(200)]\n",
        "s_challenge = [0 for f in range(200)]\n",
        "y_challenge = [0 for f in range(200)]\n",
        "y_actual = np.array(data_training.iloc[:,0])\n",
        "y_actual_test = np.array(data_testing.iloc[:,0])\n",
        "error = [0 for i in range(21)]\n",
        "error2 = [0 for i in range(21)]\n",
        "n = 0.005 #LEARNING RATE\n",
        "\n",
        "for k in range (21): #k IS EPOCH \n",
        "  error_training = 0\n",
        "  error_testing = 0\n",
        "  for i in range(800):\n",
        "      s_training[i] = np.dot(data_training.iloc[i,2:],w[1:]) + w[0]\n",
        "      if s_training[i] > 0 :\n",
        "          y_training[i] = 1\n",
        "      else:\n",
        "          y_training[i] = 0\n",
        "      w = w + n*(y_actual[i]-y_training[i])*(data_training.iloc[i,1:])\n",
        "      if (y_actual[i] != y_training[i]):\n",
        "        error_training = error_training + 1\n",
        "  \n",
        "  for j in range(200):\n",
        "     s_testing[j] = np.dot(data_testing.iloc[j,2:],w[1:]) + w[0]\n",
        "     if s_testing[j] > 0:\n",
        "       y_testing[j] = 1\n",
        "     else:\n",
        "       y_testing[j] = 0\n",
        "     if (y_testing[j] != y_actual_test[j]):\n",
        "       error_testing = error_testing + 1\n",
        "\n",
        "  error[k] = error_training/800\n",
        "  error2[k] = error_testing/200\n",
        "\n",
        "print(error2)\n",
        "print(error)"
      ],
      "execution_count": 148,
      "outputs": [
        {
          "output_type": "stream",
          "name": "stdout",
          "text": [
            "[0.035, 0.02, 0.02, 0.02, 0.02, 0.02, 0.02, 0.015, 0.015, 0.015, 0.015, 0.015, 0.015, 0.015, 0.015, 0.015, 0.015, 0.01, 0.015, 0.015, 0.015]\n",
            "[0.24875, 0.01625, 0.01, 0.00625, 0.005, 0.005, 0.0025, 0.0025, 0.0025, 0.0025, 0.0025, 0.00125, 0.0025, 0.00375, 0.00125, 0.00125, 0.0025, 0.0025, 0.00125, 0.0, 0.0]\n"
          ]
        }
      ]
    },
    {
      "cell_type": "code",
      "metadata": {
        "id": "CYUqJyT-aVnv",
        "colab": {
          "base_uri": "https://localhost:8080/"
        },
        "outputId": "36e9c908-6206-4d8a-fb9e-4b0666e7d8f9"
      },
      "source": [
        "tn2, fp2, fn2, tp2= confusion_matrix(y_actual,y_training).ravel()\n",
        "print(\"TN:\",tn2,\"FP\",fp2,\"FN:\",fn2,\"TP:\",tp2)\n",
        "p2 = (tp2/(tp2+fp2))\n",
        "r2 = (tp2/(tp2+fn2))\n",
        "f12 = 2*((p2*r2)/(p2+r2))\n",
        "print(\"p=\",p2,\"r=\",r2,\"f1=\",f12)"
      ],
      "execution_count": 149,
      "outputs": [
        {
          "output_type": "stream",
          "name": "stdout",
          "text": [
            "TN: 400 FP 0 FN: 0 TP: 400\n",
            "p= 1.0 r= 1.0 f1= 1.0\n"
          ]
        }
      ]
    },
    {
      "cell_type": "code",
      "metadata": {
        "id": "jt4GgqHUso20"
      },
      "source": [
        "# y_actual_test = np.array(data_testing.iloc[:,0])\n",
        "# error2 = [0 for i in range(21)]\n",
        "\n",
        "# for i in range(21): #epoch\n",
        "#   error_testing = 0.0\n",
        "#   for j in range(200):\n",
        "#     s_testing[j] = np.dot(data_testing.iloc[j,2:],w_copy[1:]) + w_copy[0]\n",
        "#     if s_testing[j] > 0:\n",
        "#       y_testing[j] = 1\n",
        "#     else:\n",
        "#       y_testing[j] = 0\n",
        "#     if (y_testing[j] != y_actual_test[j]):\n",
        "#       # print(y_testing[j] == y_actual_test[j])\n",
        "#       error_testing = error_testing + 1\n",
        "#   error2[i] = error_testing/200\n",
        "# print(error2)"
      ],
      "execution_count": 150,
      "outputs": []
    },
    {
      "cell_type": "code",
      "metadata": {
        "id": "kKbqu83ptRd9",
        "colab": {
          "base_uri": "https://localhost:8080/",
          "height": 279
        },
        "outputId": "79a3a54a-4417-4c36-e390-a2ff4a93fda9"
      },
      "source": [
        "parameter = ['R','P','F1']\n",
        "values = [r1,p1,f11]\n",
        "values2 = [r2,p2,f12]\n",
        "width1 = 0.2\n",
        "plt.bar(parameter,values, width = width1+0.2, label = 'Before training')\n",
        "plt.bar(parameter,values2,width = width1, align='edge', label = 'After training')\n",
        "plt.xlabel('Scores')\n",
        "plt.legend()\n",
        "plt.show()"
      ],
      "execution_count": 151,
      "outputs": [
        {
          "output_type": "display_data",
          "data": {
            "image/png": "[encoded data removed]",
            "text/plain": [
              "<Figure size 432x288 with 1 Axes>"
            ]
          },
          "metadata": {
            "needs_background": "light"
          }
        }
      ]
    },
    {
      "cell_type": "code",
      "metadata": {
        "id": "PnTJOyj9NyYf",
        "colab": {
          "base_uri": "https://localhost:8080/",
          "height": 351
        },
        "outputId": "cc25b32d-0456-4126-f48a-ef0f34c65b65"
      },
      "source": [
        "plt.figure(figsize=(10,5))\n",
        "plt.plot(range(21),error,label = 'Training',marker = 'o',markersize = 4)\n",
        "plt.plot(range(21),error2,label = 'Test',marker = 'o',markersize = 4)\n",
        "plt.xticks(range(21))\n",
        "plt.xlabel(\"Epoch\")\n",
        "plt.ylabel(\"Error-rate\")\n",
        "plt.legend()"
      ],
      "execution_count": 152,
      "outputs": [
        {
          "output_type": "execute_result",
          "data": {
            "text/plain": [
              "<matplotlib.legend.Legend at 0x7ff56a6c2f50>"
            ]
          },
          "metadata": {},
          "execution_count": 152
        },
        {
          "output_type": "display_data",
          "data": {
            "image/png": "[encoded data removed]",
            "text/plain": [
              "<Figure size 720x360 with 1 Axes>"
            ]
          },
          "metadata": {
            "needs_background": "light"
          }
        }
      ]
    },
    {
      "cell_type": "code",
      "metadata": {
        "id": "6ICY2d9Qf6T9",
        "colab": {
          "base_uri": "https://localhost:8080/",
          "height": 266
        },
        "outputId": "65382a59-65d0-49af-8941-be7cb301ae02"
      },
      "source": [
        "fig, (ax1, ax2) = plt.subplots(1,2)\n",
        "bx=sns.heatmap(w_copy[1:].reshape(28,28).T,ax=ax1)\n",
        "a =  np.array(w[1:]).reshape(28,28).T\n",
        "cx = sns.heatmap(a,ax=ax2)\n",
        "plt.show()"
      ],
      "execution_count": 153,
      "outputs": [
        {
          "output_type": "display_data",
          "data": {
            "image/png": "[encoded data removed]",
            "text/plain": [
              "<Figure size 432x288 with 4 Axes>"
            ]
          },
          "metadata": {
            "needs_background": "light"
          }
        }
      ]
    },
    {
      "cell_type": "code",
      "metadata": {
        "id": "2LRtQcCekW-Z"
      },
      "source": [
        "y_all_C = []\n",
        "\n",
        "y_challenge=np.zeros(200)\n",
        "for i in range(200):\n",
        "    s_challenge[i] = np.dot(data_challenge.iloc[i,1:],w)\n",
        "    #print(s_testing[i])\n",
        "    a = w[:1].values\n",
        "    if (s_challenge[i] > a):\n",
        "      y_challenge[i] = 1\n",
        "    else:\n",
        "      y_challenge[i] = 0\n",
        "\n",
        "y_all_C = (y_challenge)"
      ],
      "execution_count": 154,
      "outputs": []
    },
    {
      "cell_type": "code",
      "metadata": {
        "id": "KAmgYYAwzLP3",
        "colab": {
          "base_uri": "https://localhost:8080/"
        },
        "outputId": "67a896c4-9abe-4432-fefb-cbc7dae95b2c"
      },
      "source": [
        "x = (data_challenge.iloc[:,0])\n",
        "\n",
        "\n",
        "sevens_ones = np.where((x ==7)& y_all_C == 1 )\n",
        "sevens_ones = len(np.array(sevens_ones)[0])\n",
        "nine_ones = np.where((x==9) & (y_all_C == 1 ))\n",
        "nine_ones = len(nine_ones[0])\n",
        "sevens_zeros = np.where((x==7) & (y_all_C == 0 ))\n",
        "sevens_zeros = len(sevens_zeros[0])\n",
        "nine_zeros = np.where((x==9) & (y_all_C == 0 ))\n",
        "nine_zeros = len(nine_zeros[0])\n",
        "\n",
        "print(sevens_ones)\n",
        "print()\n",
        "print((sevens_zeros))\n",
        "print()\n",
        "print((nine_ones))\n",
        "print()\n",
        "print((nine_zeros))"
      ],
      "execution_count": 155,
      "outputs": [
        {
          "output_type": "stream",
          "name": "stdout",
          "text": [
            "97\n",
            "\n",
            "3\n",
            "\n",
            "96\n",
            "\n",
            "4\n"
          ]
        }
      ]
    },
    {
      "cell_type": "code",
      "metadata": {
        "id": "OwbQ7KA-zN49",
        "colab": {
          "base_uri": "https://localhost:8080/",
          "height": 542
        },
        "outputId": "90861060-b80b-4a7b-9a47-fa093c447e4d"
      },
      "source": [
        "import plotly.graph_objects as go\n",
        "\n",
        "fig = go.Figure(data=[go.Table(header=dict(values=['', 'Original 7', 'Original 9']),\n",
        "                 cells=dict(values=[['Detected 1','Detected 0'], [sevens_ones,sevens_zeros], [nine_ones,nine_zeros]]))\n",
        "                     ])\n",
        "fig.show()"
      ],
      "execution_count": 156,
      "outputs": [
        {
          "output_type": "display_data",
          "data": {
            "text/html": [
              "<html>\n",
              "<head><meta charset=\"utf-8\" /></head>\n",
              "<body>\n",
              "    <div>\n",
              "            <script src=\"https://cdnjs.cloudflare.com/ajax/libs/mathjax/2.7.5/MathJax.js?config=TeX-AMS-MML_SVG\"></script><script type=\"text/javascript\">if (window.MathJax) {MathJax.Hub.Config({SVG: {font: \"STIX-Web\"}});}</script>\n",
              "                <script type=\"text/javascript\">window.PlotlyConfig = {MathJaxConfig: 'local'};</script>\n",
              "        <script src=\"https://cdn.plot.ly/plotly-latest.min.js\"></script>    \n",
              "            <div id=\"4c0d2ca5-adf7-4802-9df2-770ccf645595\" class=\"plotly-graph-div\" style=\"height:525px; width:100%;\"></div>\n",
              "            <script type=\"text/javascript\">\n",
              "                \n",
              "                    window.PLOTLYENV=window.PLOTLYENV || {};\n",
              "                    \n",
              "                if (document.getElementById(\"4c0d2ca5-adf7-4802-9df2-770ccf645595\")) {\n",
              "                    Plotly.newPlot(\n",
              "                        '4c0d2ca5-adf7-4802-9df2-770ccf645595',\n",
              "                        [{\"cells\": {\"values\": [[\"Detected 1\", \"Detected 0\"], [97, 3], [96, 4]]}, \"header\": {\"values\": [\"\", \"Original 7\", \"Original 9\"]}, \"type\": \"table\"}],\n",
              "                        {\"template\": {\"data\": {\"bar\": [{\"error_x\": {\"color\": \"#2a3f5f\"}, \"error_y\": {\"color\": \"#2a3f5f\"}, \"marker\": {\"line\": {\"color\": \"#E5ECF6\", \"width\": 0.5}}, \"type\": \"bar\"}], \"barpolar\": [{\"marker\": {\"line\": {\"color\": \"#E5ECF6\", \"width\": 0.5}}, \"type\": \"barpolar\"}], \"carpet\": [{\"aaxis\": {\"endlinecolor\": \"#2a3f5f\", \"gridcolor\": \"white\", \"linecolor\": \"white\", \"minorgridcolor\": \"white\", \"startlinecolor\": \"#2a3f5f\"}, \"baxis\": {\"endlinecolor\": \"#2a3f5f\", \"gridcolor\": \"white\", \"linecolor\": \"white\", \"minorgridcolor\": \"white\", \"startlinecolor\": \"#2a3f5f\"}, \"type\": \"carpet\"}], \"choropleth\": [{\"colorbar\": {\"outlinewidth\": 0, \"ticks\": \"\"}, \"type\": \"choropleth\"}], \"contour\": [{\"colorbar\": {\"outlinewidth\": 0, \"ticks\": \"\"}, \"colorscale\": [[0.0, \"#0d0887\"], [0.1111111111111111, \"#46039f\"], [0.2222222222222222, \"#7201a8\"], [0.3333333333333333, \"#9c179e\"], [0.4444444444444444, \"#bd3786\"], [0.5555555555555556, \"#d8576b\"], [0.6666666666666666, \"#ed7953\"], [0.7777777777777778, \"#fb9f3a\"], [0.8888888888888888, \"#fdca26\"], [1.0, \"#f0f921\"]], \"type\": \"contour\"}], \"contourcarpet\": [{\"colorbar\": {\"outlinewidth\": 0, \"ticks\": \"\"}, \"type\": \"contourcarpet\"}], \"heatmap\": [{\"colorbar\": {\"outlinewidth\": 0, \"ticks\": \"\"}, \"colorscale\": [[0.0, \"#0d0887\"], [0.1111111111111111, \"#46039f\"], [0.2222222222222222, \"#7201a8\"], [0.3333333333333333, \"#9c179e\"], [0.4444444444444444, \"#bd3786\"], [0.5555555555555556, \"#d8576b\"], [0.6666666666666666, \"#ed7953\"], [0.7777777777777778, \"#fb9f3a\"], [0.8888888888888888, \"#fdca26\"], [1.0, \"#f0f921\"]], \"type\": \"heatmap\"}], \"heatmapgl\": [{\"colorbar\": {\"outlinewidth\": 0, \"ticks\": \"\"}, \"colorscale\": [[0.0, \"#0d0887\"], [0.1111111111111111, \"#46039f\"], [0.2222222222222222, \"#7201a8\"], [0.3333333333333333, \"#9c179e\"], [0.4444444444444444, \"#bd3786\"], [0.5555555555555556, \"#d8576b\"], [0.6666666666666666, \"#ed7953\"], [0.7777777777777778, \"#fb9f3a\"], [0.8888888888888888, \"#fdca26\"], [1.0, \"#f0f921\"]], \"type\": \"heatmapgl\"}], \"histogram\": [{\"marker\": {\"colorbar\": {\"outlinewidth\": 0, \"ticks\": \"\"}}, \"type\": \"histogram\"}], \"histogram2d\": [{\"colorbar\": {\"outlinewidth\": 0, \"ticks\": \"\"}, \"colorscale\": [[0.0, \"#0d0887\"], [0.1111111111111111, \"#46039f\"], [0.2222222222222222, \"#7201a8\"], [0.3333333333333333, \"#9c179e\"], [0.4444444444444444, \"#bd3786\"], [0.5555555555555556, \"#d8576b\"], [0.6666666666666666, \"#ed7953\"], [0.7777777777777778, \"#fb9f3a\"], [0.8888888888888888, \"#fdca26\"], [1.0, \"#f0f921\"]], \"type\": \"histogram2d\"}], \"histogram2dcontour\": [{\"colorbar\": {\"outlinewidth\": 0, \"ticks\": \"\"}, \"colorscale\": [[0.0, \"#0d0887\"], [0.1111111111111111, \"#46039f\"], [0.2222222222222222, \"#7201a8\"], [0.3333333333333333, \"#9c179e\"], [0.4444444444444444, \"#bd3786\"], [0.5555555555555556, \"#d8576b\"], [0.6666666666666666, \"#ed7953\"], [0.7777777777777778, \"#fb9f3a\"], [0.8888888888888888, \"#fdca26\"], [1.0, \"#f0f921\"]], \"type\": \"histogram2dcontour\"}], \"mesh3d\": [{\"colorbar\": {\"outlinewidth\": 0, \"ticks\": \"\"}, \"type\": \"mesh3d\"}], \"parcoords\": [{\"line\": {\"colorbar\": {\"outlinewidth\": 0, \"ticks\": \"\"}}, \"type\": \"parcoords\"}], \"pie\": [{\"automargin\": true, \"type\": \"pie\"}], \"scatter\": [{\"marker\": {\"colorbar\": {\"outlinewidth\": 0, \"ticks\": \"\"}}, \"type\": \"scatter\"}], \"scatter3d\": [{\"line\": {\"colorbar\": {\"outlinewidth\": 0, \"ticks\": \"\"}}, \"marker\": {\"colorbar\": {\"outlinewidth\": 0, \"ticks\": \"\"}}, \"type\": \"scatter3d\"}], \"scattercarpet\": [{\"marker\": {\"colorbar\": {\"outlinewidth\": 0, \"ticks\": \"\"}}, \"type\": \"scattercarpet\"}], \"scattergeo\": [{\"marker\": {\"colorbar\": {\"outlinewidth\": 0, \"ticks\": \"\"}}, \"type\": \"scattergeo\"}], \"scattergl\": [{\"marker\": {\"colorbar\": {\"outlinewidth\": 0, \"ticks\": \"\"}}, \"type\": \"scattergl\"}], \"scattermapbox\": [{\"marker\": {\"colorbar\": {\"outlinewidth\": 0, \"ticks\": \"\"}}, \"type\": \"scattermapbox\"}], \"scatterpolar\": [{\"marker\": {\"colorbar\": {\"outlinewidth\": 0, \"ticks\": \"\"}}, \"type\": \"scatterpolar\"}], \"scatterpolargl\": [{\"marker\": {\"colorbar\": {\"outlinewidth\": 0, \"ticks\": \"\"}}, \"type\": \"scatterpolargl\"}], \"scatterternary\": [{\"marker\": {\"colorbar\": {\"outlinewidth\": 0, \"ticks\": \"\"}}, \"type\": \"scatterternary\"}], \"surface\": [{\"colorbar\": {\"outlinewidth\": 0, \"ticks\": \"\"}, \"colorscale\": [[0.0, \"#0d0887\"], [0.1111111111111111, \"#46039f\"], [0.2222222222222222, \"#7201a8\"], [0.3333333333333333, \"#9c179e\"], [0.4444444444444444, \"#bd3786\"], [0.5555555555555556, \"#d8576b\"], [0.6666666666666666, \"#ed7953\"], [0.7777777777777778, \"#fb9f3a\"], [0.8888888888888888, \"#fdca26\"], [1.0, \"#f0f921\"]], \"type\": \"surface\"}], \"table\": [{\"cells\": {\"fill\": {\"color\": \"#EBF0F8\"}, \"line\": {\"color\": \"white\"}}, \"header\": {\"fill\": {\"color\": \"#C8D4E3\"}, \"line\": {\"color\": \"white\"}}, \"type\": \"table\"}]}, \"layout\": {\"annotationdefaults\": {\"arrowcolor\": \"#2a3f5f\", \"arrowhead\": 0, \"arrowwidth\": 1}, \"coloraxis\": {\"colorbar\": {\"outlinewidth\": 0, \"ticks\": \"\"}}, \"colorscale\": {\"diverging\": [[0, \"#8e0152\"], [0.1, \"#c51b7d\"], [0.2, \"#de77ae\"], [0.3, \"#f1b6da\"], [0.4, \"#fde0ef\"], [0.5, \"#f7f7f7\"], [0.6, \"#e6f5d0\"], [0.7, \"#b8e186\"], [0.8, \"#7fbc41\"], [0.9, \"#4d9221\"], [1, \"#276419\"]], \"sequential\": [[0.0, \"#0d0887\"], [0.1111111111111111, \"#46039f\"], [0.2222222222222222, \"#7201a8\"], [0.3333333333333333, \"#9c179e\"], [0.4444444444444444, \"#bd3786\"], [0.5555555555555556, \"#d8576b\"], [0.6666666666666666, \"#ed7953\"], [0.7777777777777778, \"#fb9f3a\"], [0.8888888888888888, \"#fdca26\"], [1.0, \"#f0f921\"]], \"sequentialminus\": [[0.0, \"#0d0887\"], [0.1111111111111111, \"#46039f\"], [0.2222222222222222, \"#7201a8\"], [0.3333333333333333, \"#9c179e\"], [0.4444444444444444, \"#bd3786\"], [0.5555555555555556, \"#d8576b\"], [0.6666666666666666, \"#ed7953\"], [0.7777777777777778, \"#fb9f3a\"], [0.8888888888888888, \"#fdca26\"], [1.0, \"#f0f921\"]]}, \"colorway\": [\"#636efa\", \"#EF553B\", \"#00cc96\", \"#ab63fa\", \"#FFA15A\", \"#19d3f3\", \"#FF6692\", \"#B6E880\", \"#FF97FF\", \"#FECB52\"], \"font\": {\"color\": \"#2a3f5f\"}, \"geo\": {\"bgcolor\": \"white\", \"lakecolor\": \"white\", \"landcolor\": \"#E5ECF6\", \"showlakes\": true, \"showland\": true, \"subunitcolor\": \"white\"}, \"hoverlabel\": {\"align\": \"left\"}, \"hovermode\": \"closest\", \"mapbox\": {\"style\": \"light\"}, \"paper_bgcolor\": \"white\", \"plot_bgcolor\": \"#E5ECF6\", \"polar\": {\"angularaxis\": {\"gridcolor\": \"white\", \"linecolor\": \"white\", \"ticks\": \"\"}, \"bgcolor\": \"#E5ECF6\", \"radialaxis\": {\"gridcolor\": \"white\", \"linecolor\": \"white\", \"ticks\": \"\"}}, \"scene\": {\"xaxis\": {\"backgroundcolor\": \"#E5ECF6\", \"gridcolor\": \"white\", \"gridwidth\": 2, \"linecolor\": \"white\", \"showbackground\": true, \"ticks\": \"\", \"zerolinecolor\": \"white\"}, \"yaxis\": {\"backgroundcolor\": \"#E5ECF6\", \"gridcolor\": \"white\", \"gridwidth\": 2, \"linecolor\": \"white\", \"showbackground\": true, \"ticks\": \"\", \"zerolinecolor\": \"white\"}, \"zaxis\": {\"backgroundcolor\": \"#E5ECF6\", \"gridcolor\": \"white\", \"gridwidth\": 2, \"linecolor\": \"white\", \"showbackground\": true, \"ticks\": \"\", \"zerolinecolor\": \"white\"}}, \"shapedefaults\": {\"line\": {\"color\": \"#2a3f5f\"}}, \"ternary\": {\"aaxis\": {\"gridcolor\": \"white\", \"linecolor\": \"white\", \"ticks\": \"\"}, \"baxis\": {\"gridcolor\": \"white\", \"linecolor\": \"white\", \"ticks\": \"\"}, \"bgcolor\": \"#E5ECF6\", \"caxis\": {\"gridcolor\": \"white\", \"linecolor\": \"white\", \"ticks\": \"\"}}, \"title\": {\"x\": 0.05}, \"xaxis\": {\"automargin\": true, \"gridcolor\": \"white\", \"linecolor\": \"white\", \"ticks\": \"\", \"title\": {\"standoff\": 15}, \"zerolinecolor\": \"white\", \"zerolinewidth\": 2}, \"yaxis\": {\"automargin\": true, \"gridcolor\": \"white\", \"linecolor\": \"white\", \"ticks\": \"\", \"title\": {\"standoff\": 15}, \"zerolinecolor\": \"white\", \"zerolinewidth\": 2}}}},\n",
              "                        {\"responsive\": true}\n",
              "                    ).then(function(){\n",
              "                            \n",
              "var gd = document.getElementById('4c0d2ca5-adf7-4802-9df2-770ccf645595');\n",
              "var x = new MutationObserver(function (mutations, observer) {{\n",
              "        var display = window.getComputedStyle(gd).display;\n",
              "        if (!display || display === 'none') {{\n",
              "            console.log([gd, 'removed!']);\n",
              "            Plotly.purge(gd);\n",
              "            observer.disconnect();\n",
              "        }}\n",
              "}});\n",
              "\n",
              "// Listen for the removal of the full notebook cells\n",
              "var notebookContainer = gd.closest('#notebook-container');\n",
              "if (notebookContainer) {{\n",
              "    x.observe(notebookContainer, {childList: true});\n",
              "}}\n",
              "\n",
              "// Listen for the clearing of the current output cell\n",
              "var outputEl = gd.closest('.output');\n",
              "if (outputEl) {{\n",
              "    x.observe(outputEl, {childList: true});\n",
              "}}\n",
              "\n",
              "                        })\n",
              "                };\n",
              "                \n",
              "            </script>\n",
              "        </div>\n",
              "</body>\n",
              "</html>"
            ]
          },
          "metadata": {}
        }
      ]
    }
  ]
}